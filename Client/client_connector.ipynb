{
 "cells": [
  {
   "cell_type": "code",
   "execution_count": 1,
   "id": "bcf34171-8ab4-4cf2-83ca-44e3a88cc398",
   "metadata": {},
   "outputs": [
    {
     "name": "stdout",
     "output_type": "stream",
     "text": [
      "Requirement already satisfied: mysql-connector-python in c:\\users\\john\\appdata\\local\\programs\\python\\python310\\lib\\site-packages (9.0.0)\n"
     ]
    },
    {
     "name": "stderr",
     "output_type": "stream",
     "text": [
      "\n",
      "[notice] A new release of pip is available: 24.0 -> 24.2\n",
      "[notice] To update, run: python.exe -m pip install --upgrade pip\n"
     ]
    }
   ],
   "source": [
    "!pip install mysql-connector-python"
   ]
  },
  {
   "cell_type": "code",
   "execution_count": 1,
   "id": "1616115d-bd43-4e71-bde9-3c732f89512c",
   "metadata": {},
   "outputs": [],
   "source": [
    "import mysql.connector as connector"
   ]
  },
  {
   "cell_type": "code",
   "execution_count": 2,
   "id": "f9e9b582-8125-4464-8bd1-3a4a9e5f9682",
   "metadata": {},
   "outputs": [],
   "source": [
    "connection = connector.connect(user = \"little_lemon_user\", password = \"littlelemonuser\", host=\"localhost\", db = \"littlelemondb\") "
   ]
  },
  {
   "cell_type": "code",
   "execution_count": 4,
   "id": "9f27a79f-2c36-45cc-b84a-4723516301e0",
   "metadata": {},
   "outputs": [
    {
     "name": "stdout",
     "output_type": "stream",
     "text": [
      "Tables in the database:\n",
      "bookings\n",
      "customers\n",
      "menuitems\n",
      "menus\n",
      "order_menu\n",
      "orderdeliverystatus\n",
      "orders\n",
      "ordersview\n",
      "staffs\n"
     ]
    },
    {
     "data": {
      "text/plain": [
       "True"
      ]
     },
     "execution_count": 4,
     "metadata": {},
     "output_type": "execute_result"
    }
   ],
   "source": [
    "# Create a cursor object to interact with the database\n",
    "cursor = connection.cursor()\n",
    "\n",
    "# Define the query to show all tables in the database\n",
    "query = \"SHOW TABLES\"\n",
    "\n",
    "# Execute the query\n",
    "cursor.execute(query)\n",
    "\n",
    "# Fetch all the results\n",
    "results = cursor.fetchall()\n",
    "\n",
    "# Print the results (list of tables)\n",
    "print(\"Tables in the database:\")\n",
    "for row in results:\n",
    "    print(row[0])\n",
    "\n",
    "# Close the cursor\n",
    "cursor.close()"
   ]
  },
  {
   "cell_type": "code",
   "execution_count": 6,
   "id": "2800e8e0-2297-45e6-ade1-6f38be8c8bc1",
   "metadata": {},
   "outputs": [
    {
     "name": "stdout",
     "output_type": "stream",
     "text": [
      "('CustomerName', 'ContactNumber', 'Email')\n",
      "Tables in the database:\n",
      "('David Martin', '666-777-8888', 'david@example.com')\n",
      "('Chris Evans', '999-888-7777', 'chris@example.com')\n",
      "('Olivia Green', '444-555-6666', 'olivia@example.com')\n",
      "('Liam Moore', '666-777-8888', 'liam@example.com')\n",
      "('Mia Hall', '111-111-2222', 'mia@example.com')\n",
      "('Noah Scott', '222-222-3333', 'noah@example.com')\n",
      "('Sophia Brown', '555-555-6666', 'sophiaB@example.com')\n",
      "('Oliver Taylor', '666-666-7777', 'oliver@example.com')\n"
     ]
    },
    {
     "data": {
      "text/plain": [
       "True"
      ]
     },
     "execution_count": 6,
     "metadata": {},
     "output_type": "execute_result"
    }
   ],
   "source": [
    "# Query with table JOIN\n",
    "# Create a cursor object to interact with the database\n",
    "cursor = connection.cursor()\n",
    "\n",
    "# define the query to return the full name and contact details for every customer \n",
    "# that has placed an order greater than $60 for a promotional campaign\n",
    "over_60_customers = \"\"\"\n",
    "SELECT Customers.CustomerName, Customers.ContactNumber, Customers.Email\n",
    "FROM Customers\n",
    "JOIN Bookings ON Customers.CustomerID = Bookings.CustomerID\n",
    "JOIN Orders ON Orders.BookingID = Bookings.BookingID\n",
    "WHERE Orders.TotalCost > 60;\n",
    "\"\"\"\n",
    "\n",
    "# Execute the query\n",
    "cursor.execute(over_60_customers)\n",
    "\n",
    "# Fetch all the results\n",
    "results = cursor.fetchall()\n",
    "\n",
    "# Print the results (list of tables)\n",
    "print(cursor.column_names)\n",
    "print(\"Tables in the database:\")\n",
    "for row in results:\n",
    "    print(row)\n",
    "\n",
    "# Close the cursor\n",
    "cursor.close()"
   ]
  },
  {
   "cell_type": "code",
   "execution_count": null,
   "id": "25572086-eb74-41ec-89be-7ee03448735f",
   "metadata": {},
   "outputs": [],
   "source": []
  }
 ],
 "metadata": {
  "kernelspec": {
   "display_name": "Python 3 (ipykernel)",
   "language": "python",
   "name": "python3"
  },
  "language_info": {
   "codemirror_mode": {
    "name": "ipython",
    "version": 3
   },
   "file_extension": ".py",
   "mimetype": "text/x-python",
   "name": "python",
   "nbconvert_exporter": "python",
   "pygments_lexer": "ipython3",
   "version": "3.10.6"
  }
 },
 "nbformat": 4,
 "nbformat_minor": 5
}
